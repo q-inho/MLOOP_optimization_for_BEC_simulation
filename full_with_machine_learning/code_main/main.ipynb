{
 "cells": [
  {
   "cell_type": "code",
   "execution_count": 2,
   "metadata": {},
   "outputs": [
    {
     "ename": "ImportError",
     "evalue": "cannot import name 'initial_simulation_run' from 'simulation' (/Users/choi/github/MLOOP_optimization_for_BEC_simulation/full_with_machine_learning/code/simulation.py)",
     "output_type": "error",
     "traceback": [
      "\u001b[0;31m---------------------------------------------------------------------------\u001b[0m",
      "\u001b[0;31mImportError\u001b[0m                               Traceback (most recent call last)",
      "Cell \u001b[0;32mIn[2], line 2\u001b[0m\n\u001b[1;32m      1\u001b[0m \u001b[38;5;28;01mimport\u001b[39;00m \u001b[38;5;21;01mlogging\u001b[39;00m\n\u001b[0;32m----> 2\u001b[0m \u001b[38;5;28;01mfrom\u001b[39;00m \u001b[38;5;21;01msimulation\u001b[39;00m \u001b[38;5;28;01mimport\u001b[39;00m initial_simulation_run, run_full_sequence\n\u001b[1;32m      3\u001b[0m \u001b[38;5;28;01mfrom\u001b[39;00m \u001b[38;5;21;01moptimization\u001b[39;00m \u001b[38;5;28;01mimport\u001b[39;00m run_optimization\n\u001b[1;32m      4\u001b[0m \u001b[38;5;28;01mfrom\u001b[39;00m \u001b[38;5;21;01mplotting\u001b[39;00m \u001b[38;5;28;01mimport\u001b[39;00m plot_optimization_progress\n",
      "\u001b[0;31mImportError\u001b[0m: cannot import name 'initial_simulation_run' from 'simulation' (/Users/choi/github/MLOOP_optimization_for_BEC_simulation/full_with_machine_learning/code/simulation.py)"
     ]
    }
   ],
   "source": [
    "import logging\n",
    "from simulation import initial_simulation_run, run_full_sequence\n",
    "from optimization import run_optimization\n",
    "from plotting import plot_optimization_progress\n",
    "from utils import validate_simulation, expand_parameters\n",
    "\n",
    "logging.basicConfig(level=logging.INFO, format='%(asctime)s - %(levelname)s - %(message)s')\n",
    "\n",
    "if __name__ == \"__main__\":\n",
    "    print(\"Running initial simulation...\")\n",
    "    initial_results, initial_trap_frequencies, initial_trap = initial_simulation_run()\n",
    "\n",
    "    print(\"Starting optimization process...\")\n",
    "    best_params, best_cost, optimizer = run_optimization(n_iterations=100)\n",
    "    \n",
    "    print(\"Running simulation with optimized parameters...\")\n",
    "    P_y_opt, P_z_opt, P_R_opt, P_p_opt, B_z_opt = expand_parameters(best_params)\n",
    "    optimized_results, optimized_trap_frequencies, optimized_trap, optimized_cooling_efficiencies, optimized_condensate_fractions = run_full_sequence(best_params)\n",
    "    \n",
    "    print(\"\\nOptimized simulation results:\")\n",
    "    validate_simulation(optimized_results, optimized_trap_frequencies, best_params, optimized_trap, optimized_cooling_efficiencies, optimized_condensate_fractions)\n",
    "    \n",
    "    print(\"Plotting optimization progress...\")\n",
    "    plot_optimization_progress(optimizer)\n",
    "    \n",
    "    print(f\"Best cost: {best_cost}\")\n",
    "    print(f\"Optimized parameters: {best_params}\")"
   ]
  },
  {
   "cell_type": "code",
   "execution_count": null,
   "metadata": {},
   "outputs": [],
   "source": []
  }
 ],
 "metadata": {
  "kernelspec": {
   "display_name": "BEC_optimization",
   "language": "python",
   "name": "python3"
  },
  "language_info": {
   "codemirror_mode": {
    "name": "ipython",
    "version": 3
   },
   "file_extension": ".py",
   "mimetype": "text/x-python",
   "name": "python",
   "nbconvert_exporter": "python",
   "pygments_lexer": "ipython3",
   "version": "3.9.19"
  }
 },
 "nbformat": 4,
 "nbformat_minor": 2
}
